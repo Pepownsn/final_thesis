{
 "cells": [
  {
   "cell_type": "code",
   "execution_count": null,
   "metadata": {},
   "outputs": [],
   "source": [
    "import matplotlib.pyplot as plt\n",
    "import pandas as pd # v. 1.7\n",
    "import MySQLdb\n",
    "import numpy as np\n",
    "import time\n",
    "import sys\n",
    "import datetime \n",
    "from datetime import datetime\n",
    "from sympy import *\n",
    "from sympy.solvers import solve\n",
    "from sympy.parsing.sympy_parser import parse_expr\n",
    "from sklearn.metrics import mean_absolute_error,mean_squared_error\n",
    "import statistics \n",
    "%matplotlib inline\n",
    "\n",
    "conn = MySQLdb.connect(\"localhost\",\"conn\",\"hems\")\n",
    "cursor = conn.cursor()\n",
    "\n",
    "query_predict = \"SELECT * FROM thesis.prediction_6month WHERE Timestamp >= '%s'   AND TimeStamp <= '%s';\"% (\"2016-10-03 00:00:00\",\"2016-10-05 23:59:59\")\n",
    "query = \"SELECT Timestamp, total_watt FROM thesis.load WHERE Timestamp >= '%s'   AND TimeStamp <= '%s';\"% (\"2016-10-03 00:00:00\",\"2016-10-05 23:59:59\")\n",
    "\n",
    "\n",
    "df_predict   = pd.read_sql( query_predict , conn , index_col=['Timestamp'])\n",
    "df = pd.read_sql(query, conn , index_col=['Timestamp'])\n",
    "\n",
    "df['predict'] = df_predict.watt\n",
    "\n",
    "fig, ax = plt.subplots(figsize=(14, 6))\n",
    "ax.set_title('pred  VS exactly_power')\n",
    "df.plot(ax=ax)\n",
    "plt.show()\n"
   ]
  },
  {
   "cell_type": "code",
   "execution_count": null,
   "metadata": {},
   "outputs": [],
   "source": [
    "##### EXPANDING \n",
    "from sklearn.metrics import mean_absolute_error,mean_squared_error\n",
    "df.APE_predict = (np.abs((df.total_watt-df_predict.watt)/df.total_watt))*100\n",
    "MAPE_predict  = np.mean(df.APE_predict )\n",
    "# df.to_csv('out.csv')\n",
    "\n",
    "\n",
    "print \"Prediction ________________________________\"\n",
    "print \"% MEAN ABSOLUTE PERCENT ERROR :\",MAPE_predict, \"%\"\n",
    "print \"Size of Data_excatly_load: \", len(df) , \" Day =\", len(df)/96\n",
    "print \"Size of Data_pred_load   : \", len(df_predict.watt) , \" Day =\", len(df_predict.watt)/96"
   ]
  },
  {
   "cell_type": "code",
   "execution_count": null,
   "metadata": {},
   "outputs": [],
   "source": [
    "### EAPANDING\n",
    "import statsmodels.api as sm\n",
    "import numpy as np\n",
    "import matplotlib.pyplot as plt\n",
    "import matplotlib.pyplot as plt\n",
    "import pandas as pd # v. 1.7\n",
    "import MySQLdb\n",
    "import matplotlib.pyplot as plt\n",
    "import numpy as np\n",
    "from sklearn.metrics import mean_absolute_error,mean_squared_error\n",
    "import statistics \n",
    "%matplotlib inline \n",
    "%matplotlib inline \n",
    "\n",
    "conn = MySQLdb.connect(\"localhost\",\"conn\",\"hems\")\n",
    "cursor = conn.cursor()\n",
    "\n",
    "query1 = \"SELECT * FROM thesis.prediction_6month WHERE Timestamp >= '%s'   AND TimeStamp <= '%s';\"% (\"2016-10-01 00:00:00\",\"2017-03-31 23:59:59\")\n",
    "df1 = pd.read_sql(query1 , conn , index_col=['Timestamp'])\n",
    "\n",
    "query = \"SELECT Timestamp, total_watt FROM thesis.load WHERE Timestamp >= '%s'   AND TimeStamp <= '%s';\"% (\"2016-10-01 00:00:00\",\"2017-03-31 23:59:59\")\n",
    "df = pd.read_sql(query, conn , index_col=['Timestamp'])\n",
    "\n",
    "X = df1.watt\n",
    "Y = df.total_watt\n",
    "\n",
    "results = sm.OLS(Y,sm.add_constant(X)).fit()\n",
    "print results.summary()\n",
    "plt.figure(figsize=(14,6))\n",
    "plt.scatter(X,Y)\n",
    "X_plot = np.linspace(0,1000,1)\n",
    "plt.plot(X_plot, X_plot*results.params[0] + results.params[1])\n",
    "plt.title('Error of  comparing exactly data and predicted data in 1 month',fontsize=18)\n",
    "plt.xlabel('Exactly data (watt)',fontsize=18)\n",
    "plt.ylabel('Predicted data (watt)',fontsize=18)\n",
    "# plt.show()\n",
    "plt.ylim((-0.5,1600))\n",
    "plt.xlim((-0.5,1600))"
   ]
  },
  {
   "cell_type": "code",
   "execution_count": null,
   "metadata": {},
   "outputs": [],
   "source": []
  },
  {
   "cell_type": "code",
   "execution_count": null,
   "metadata": {},
   "outputs": [],
   "source": []
  }
 ],
 "metadata": {
  "kernelspec": {
   "display_name": "Python 2",
   "language": "python",
   "name": "python2"
  },
  "language_info": {
   "codemirror_mode": {
    "name": "ipython",
    "version": 2
   },
   "file_extension": ".py",
   "mimetype": "text/x-python",
   "name": "python",
   "nbconvert_exporter": "python",
   "pygments_lexer": "ipython2",
   "version": "2.7.6"
  }
 },
 "nbformat": 4,
 "nbformat_minor": 1
}
