{
 "cells": [
  {
   "cell_type": "code",
   "execution_count": 2,
   "metadata": {},
   "outputs": [
    {
     "name": "stdout",
     "output_type": "stream",
     "text": [
      " ---------------DONE----------------\n"
     ]
    }
   ],
   "source": [
    "import statsmodels.api as sm\n",
    "import numpy as np\n",
    "import matplotlib.pyplot as plt\n",
    "import matplotlib.pyplot as plt\n",
    "import pandas as pd # v. 1.7\n",
    "import MySQLdb\n",
    "import matplotlib.pyplot as plt\n",
    "import numpy as np\n",
    "from sklearn.metrics import mean_absolute_error,mean_squared_error\n",
    "import statistics \n",
    "%matplotlib inline \n",
    "\n",
    "j = 0\n",
    "d = 30 #Day\n",
    "\n",
    "# CONNECT TO MYSQL\n",
    "conn= MySQLdb.connect(\"localhost\",\"conn\",\"hems\")\n",
    "c = conn.cursor()\n",
    "\n",
    "query0= \"SELECT * FROM thesis.load WHERE Timestamp >= '2016-10-01 00:00:00' AND TimeStamp <= '2017-03-31 23:59:59'; \"\n",
    "df0 = pd.read_sql(query0, conn )\n",
    "\n",
    "count_active = 0 \n",
    "count_air = 0\n",
    "count_fan = 0\n",
    "count_tv = 0\n",
    "count_com = 0\n",
    "count_iphon = 0\n",
    "count_elec = 0\n",
    "count_hair = 0\n",
    "count_water = 0\n",
    "\n",
    "sum_check =[]\n",
    "sum_ch1 =[]\n",
    "sum_ch2 =[]\n",
    "sum_ch3 =[]\n",
    "sum_ch4 =[]\n",
    "sum_ch5 =[]\n",
    "sum_ch6 =[]\n",
    "sum_ch7 =[]\n",
    "sum_ch8 =[]\n",
    "\n",
    "while (j <= len(df0)-2): \n",
    "    if (j == 0 or j==2975  or j==5855  or j == 8831  or j == 11808  or j == 14496  or j == 17470 ):\n",
    "        sum_check.append(count_air+count_fan+count_tv+count_com+count_iphon+count_elec+count_hair+count_water)\n",
    "        sum_ch1.append(count_air)\n",
    "        sum_ch2.append(count_fan)\n",
    "        sum_ch3.append(count_tv)\n",
    "        sum_ch4.append(count_com)\n",
    "        sum_ch5.append(count_iphon)\n",
    "        sum_ch6.append(count_elec)\n",
    "        sum_ch7.append(count_hair)\n",
    "        sum_ch8.append(count_water)\n",
    "        count_active = 0 \n",
    "        count_air = 0\n",
    "        count_fan = 0\n",
    "        count_tv = 0\n",
    "        count_com = 0\n",
    "        count_iphon = 0\n",
    "        count_elec = 0\n",
    "        count_hair = 0\n",
    "        count_water = 0\n",
    "        \n",
    "    if df0.aircont [j] == 0 and df0.aircont [j+1] != 0:\n",
    "        count_air += 1\n",
    "        \n",
    "    if df0.fan[j] == 0 and df0.fan[j+1] != 0:\n",
    "        count_fan += 1\n",
    "        \n",
    "    if df0.tv[j] == 0 and df0.tv[j+1] != 0:\n",
    "        count_tv += 1  \n",
    "        \n",
    "    if df0.computer [j] == 0 and df0.computer [j+1] != 0:\n",
    "        count_com += 1   \n",
    "        \n",
    "    if df0.iphonecharger [j] == 0 and df0.iphonecharger [j+1] != 0:\n",
    "        count_iphon += 1   \n",
    "        \n",
    "    if df0.elec_thermo [j] == 0 and df0.elec_thermo [j+1] != 0:\n",
    "        count_elec += 1 \n",
    "        \n",
    "    if df0.hair_dryer [j] == 0 and df0.hair_dryer [j+1] != 0:\n",
    "        count_hair += 1 \n",
    "        \n",
    "    if df0.water_heater  [j] == 0 and df0.water_heater [j+1] != 0:\n",
    "        count_water += 1 \n",
    "        \n",
    "    j+=1\n",
    "print \"---------------DONE----------------\"\n",
    "    \n",
    "\n"
   ]
  },
  {
   "cell_type": "code",
   "execution_count": 7,
   "metadata": {},
   "outputs": [
    {
     "name": "stdout",
     "output_type": "stream",
     "text": [
      "Turn on THE all controlling appliannces in each month = [276, 264, 276, 285, 242, 274] times\n",
      "Turn on Air-condition in each month    ||| OCTOBER- FEBRUARY [31, 30, 31, 31, 28, 31] times |||\n",
      "Turn on Fan in each month              ||| OCTOBER- FEBRUARY [49, 45, 47, 49, 45, 51] times |||\n",
      "Turn on TV in each month               ||| OCTOBER- FEBRUARY [51, 45, 45, 52, 38, 50] times |||\n",
      "Turn on Computer in each month         ||| OCTOBER- FEBRUARY [31, 30, 31, 31, 28, 31] times |||\n",
      "Turn on Iphone_Charger in each month   ||| OCTOBER- FEBRUARY [31, 30, 31, 31, 27, 31] times |||\n",
      "Turn on Electric_thermo in each month  ||| OCTOBER- FEBRUARY [33, 30, 31, 31, 30, 31] times |||\n",
      "Turn on Hair_dryer in each month       ||| OCTOBER- FEBRUARY [31, 30, 31, 31, 28, 31] times |||\n",
      "Turn on Water_Heater in each month     ||| OCTOBER- FEBRUARY [19, 24, 29, 29, 18, 18] times |||\n"
     ]
    }
   ],
   "source": [
    "print \"Turn on THE all controlling appliannces in each month =\"       ,sum_check[1:7],\"times\"\n",
    "print \"Turn on Air-condition in each month \",\"  ||| OCTOBER- FEBRUARY\",sum_ch1[1:7],\"times |||\"\n",
    "print \"Turn on Fan in each month \",\"            ||| OCTOBER- FEBRUARY\",sum_ch2[1:7],\"times |||\"\n",
    "print \"Turn on TV in each month \",\"             ||| OCTOBER- FEBRUARY\",sum_ch3[1:7],\"times |||\"\n",
    "print \"Turn on Computer in each month \",\"       ||| OCTOBER- FEBRUARY\",sum_ch4[1:7],\"times |||\" \n",
    "print \"Turn on Iphone_Charger in each month \",\" ||| OCTOBER- FEBRUARY\",sum_ch5[1:7],\"times |||\" \n",
    "print \"Turn on Electric_thermo in each month \",\"||| OCTOBER- FEBRUARY\",sum_ch6[1:7],\"times |||\"\n",
    "print \"Turn on Hair_dryer in each month \",\"     ||| OCTOBER- FEBRUARY\",sum_ch7[1:7],\"times |||\"\n",
    "print \"Turn on Water_Heater in each month \",\"   ||| OCTOBER- FEBRUARY\",sum_ch8[1:7],\"times |||\""
   ]
  },
  {
   "cell_type": "code",
   "execution_count": null,
   "metadata": {},
   "outputs": [],
   "source": []
  }
 ],
 "metadata": {
  "kernelspec": {
   "display_name": "Python 2",
   "language": "python",
   "name": "python2"
  },
  "language_info": {
   "codemirror_mode": {
    "name": "ipython",
    "version": 2
   },
   "file_extension": ".py",
   "mimetype": "text/x-python",
   "name": "python",
   "nbconvert_exporter": "python",
   "pygments_lexer": "ipython2",
   "version": "2.7.6"
  }
 },
 "nbformat": 4,
 "nbformat_minor": 1
}
