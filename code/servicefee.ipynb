{
 "cells": [
  {
   "cell_type": "markdown",
   "metadata": {},
   "source": [
    "### ค่าไฟฟ้ารายเดือน ###"
   ]
  },
  {
   "cell_type": "code",
   "execution_count": 2,
   "metadata": {},
   "outputs": [
    {
     "data": {
      "text/plain": [
       "1395.79"
      ]
     },
     "execution_count": 2,
     "metadata": {},
     "output_type": "execute_result"
    }
   ],
   "source": [
    "\"\"\"\n",
    "unit >> bill\n",
    "\"\"\"\n",
    "\n",
    "import pandas as pd\n",
    "import matplotlib.pyplot as plt\n",
    "import MySQLdb\n",
    "import time\n",
    "\n",
    "from sympy import *\n",
    "from sympy.solvers import solve\n",
    "from sympy.parsing.sympy_parser import parse_expr\n",
    "\n",
    "x = raw_input('What about Ft?')\n",
    "Ft = float(x)\n",
    "Ft = -0.048\n",
    "t1 = 3.2484      # rate_1\n",
    "t2 = 4.2218      # rate_2\n",
    "t3 = 4.4217      # rate_3\n",
    "ser = 38.22      # service_charge\n",
    "u = symbols('u')\n",
    "\n",
    "def bill(allpow):    \n",
    "    ## Fundamental parameter\n",
    "    if allpow == 0:\n",
    "        bath = 0\n",
    "    elif 1 <= allpow <= 150:\n",
    "        bath = allpow*t1\n",
    "    elif  151 <= allpow <= 400:\n",
    "        power = allpow-150\n",
    "        bath_1 = 150*t1\n",
    "        bath_2 = power*t2\n",
    "        bath = bath_1+bath_2\n",
    "    else:\n",
    "        power = allpow-150\n",
    "        bath_1 = 150*t1\n",
    "        power = power-250\n",
    "        bath_2 = 250*t2\n",
    "        bath_3 = power*t3\n",
    "        bath = bath_1+bath_2+bath_3   \n",
    "    service_price = 38.22  #permonth (fixed)   \n",
    "    ## FT -33.2 satang/unit\n",
    "    FT_price = allpow*Ft\n",
    "    ## VAT 7%\n",
    "    VAT_price = ((service_price+bath)+FT_price)*0.07\n",
    "    bill = bath+service_price+FT_price+VAT_price\n",
    "    return round(bill,2)\n",
    "bill (338.365544958 )"
   ]
  },
  {
   "cell_type": "code",
   "execution_count": 1,
   "metadata": {},
   "outputs": [
    {
     "name": "stdout",
     "output_type": "stream",
     "text": [
      "all unit of this month equal to 292.0 KW/Hr\n"
     ]
    },
    {
     "data": {
      "text/plain": [
       "292.0"
      ]
     },
     "execution_count": 1,
     "metadata": {},
     "output_type": "execute_result"
    }
   ],
   "source": [
    "\"\"\"\n",
    "bath >> UNIT \n",
    "\"\"\"\n",
    "\n",
    "import pandas as pd\n",
    "import matplotlib.pyplot as plt\n",
    "import MySQLdb\n",
    "import time\n",
    "\n",
    "from sympy import *\n",
    "from sympy.solvers import solve\n",
    "from sympy.parsing.sympy_parser import parse_expr\n",
    "\n",
    "# x = raw_input('What about Ft?')\n",
    "# Ft = float(x)\n",
    "Ft = -0.048\n",
    "t1 = 3.2484      # rate_1\n",
    "t2 = 4.2218      # rate_2\n",
    "t3 = 4.4217      # rate_3\n",
    "ser = 38.22      # service_charge\n",
    "u = symbols('u')\n",
    "\n",
    "def inbill(bath):\n",
    "    test_1 = solve(Eq((u*t1)+ser+(u*Ft)+(0.07*((u*t1)+ser))+(0.07*(u*Ft)),bath))\n",
    "#     print test_1\n",
    "    test_2 = solve(Eq((150*t1)+((u-150)*t2)+ser+(u*Ft)+(0.07*((150*t1)+((u-150)*t2)+ser))+(0.07*(u*Ft)),bath))\n",
    "#     print test_2\n",
    "    test_3 = solve(Eq((150*t1)+(250*t2)+((u-400)*t3)+ser+(u*Ft)+(0.07*((150*t1)+(250*t2)+((u-400)*t3)+ser))+(0.07*(u*Ft)),bath))\n",
    "#     print test_3\n",
    "    if 1 <=  test_1[0] <= 150:\n",
    "        unit = test_1[0]\n",
    "    elif 151 <=  test_2[0] <=  400:\n",
    "        unit = test_2[0]\n",
    "    else:\n",
    "        unit = test_3[0]\n",
    "    print \"all unit of this month equal to\",round(unit),\"KW/Hr\"\n",
    "    return (round(unit))\n",
    "inbill(1190.79)"
   ]
  },
  {
   "cell_type": "code",
   "execution_count": null,
   "metadata": {},
   "outputs": [],
   "source": []
  }
 ],
 "metadata": {
  "kernelspec": {
   "display_name": "Python 2",
   "language": "python",
   "name": "python2"
  },
  "language_info": {
   "codemirror_mode": {
    "name": "ipython",
    "version": 2
   },
   "file_extension": ".py",
   "mimetype": "text/x-python",
   "name": "python",
   "nbconvert_exporter": "python",
   "pygments_lexer": "ipython2",
   "version": "2.7.6"
  }
 },
 "nbformat": 4,
 "nbformat_minor": 1
}
