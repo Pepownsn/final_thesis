{
 "cells": [
  {
   "cell_type": "code",
   "execution_count": 1,
   "metadata": {},
   "outputs": [
    {
     "data": {
      "text/html": [
       "<table><tr><td>the 15 appliances</td><td>Type of appliances</td><td>the priority</td></tr><tr><td>refrigurator</td><td>Type1 : always turn on [Dont control]</td><td>x</td></tr><tr><td>wireless_router</td><td>Type1 : always turn on</td><td>x</td></tr><tr><td>aircont</td><td>Type2 : turn on oncetime&everyday</td><td>1</td></tr><tr><td>computer</td><td>Type2 : turn on oncetime&everyday</td><td>2</td></tr><tr><td>electrical_thermo</td><td>Type2 : turn on oncetime&everyday</td><td>5</td></tr><tr><td>hair_dryer</td><td>Type2 : turn on oncetime&everyday</td><td>3</td></tr><tr><td>microwave</td><td>Type2 : turn on oncetime&everyday</td><td>6</td></tr><tr><td>iphone_charger</td><td>Type2 : turn on oncetime&everyday</td><td>4</td></tr><tr><td>fan</td><td>Type3 : turn on manytime(1-3) in everyday</td><td>2</td></tr><tr><td>tv</td><td>Type3 : turn on manytime(1-3) in everyday</td><td>1</td></tr><tr><td>watching_mechine</td><td>Type4 : turn on oncetime in someday</td><td>3</td></tr><tr><td>iron</td><td>Type4 : turn on oncetime in someday</td><td>1</td></tr><tr><td>rice_cooker</td><td>Type4 : turn on oncetime in someday</td><td>2</td></tr><tr><td>water_heater</td><td>Type5 : turn on manytime(1-3) in someday</td><td>1</td></tr><tr><td>light_system</td><td>Type6 : monitor power consuming [Dont control]</td><td>x</td></tr></table>"
      ],
      "text/plain": [
       "[['the 15 appliances', 'Type of appliances', 'the priority'],\n",
       " ['refrigurator', 'Type1 : always turn on [Dont control]', 'x'],\n",
       " ['wireless_router', 'Type1 : always turn on', 'x'],\n",
       " ['aircont', 'Type2 : turn on oncetime&everyday', '1'],\n",
       " ['computer', 'Type2 : turn on oncetime&everyday', '2'],\n",
       " ['electrical_thermo', 'Type2 : turn on oncetime&everyday', '5'],\n",
       " ['hair_dryer', 'Type2 : turn on oncetime&everyday', '3'],\n",
       " ['microwave', 'Type2 : turn on oncetime&everyday', '6'],\n",
       " ['iphone_charger', 'Type2 : turn on oncetime&everyday', '4'],\n",
       " ['fan', 'Type3 : turn on manytime(1-3) in everyday', '2'],\n",
       " ['tv', 'Type3 : turn on manytime(1-3) in everyday', '1'],\n",
       " ['watching_mechine', 'Type4 : turn on oncetime in someday', '3'],\n",
       " ['iron', 'Type4 : turn on oncetime in someday', '1'],\n",
       " ['rice_cooker', 'Type4 : turn on oncetime in someday', '2'],\n",
       " ['water_heater', 'Type5 : turn on manytime(1-3) in someday', '1'],\n",
       " ['light_system', 'Type6 : monitor power consuming [Dont control]', 'x']]"
      ]
     },
     "execution_count": 1,
     "metadata": {},
     "output_type": "execute_result"
    }
   ],
   "source": [
    "import pandas as pd\n",
    "import matplotlib.pyplot as plt\n",
    "import MySQLdb\n",
    "import time\n",
    "\n",
    "from sympy import *\n",
    "from sympy.solvers import solve\n",
    "from sympy.parsing.sympy_parser import parse_expr\n",
    "\n",
    "\n",
    "class ListTable(list):\n",
    "    \n",
    "    \"\"\" Overridden list class which takes a 2-dimensional list of \n",
    "        the form [[1,2,3],[4,5,6]], and renders an HTML Table in \n",
    "        IPython Notebook. \"\"\"\n",
    "    \n",
    "    def _repr_html_(self):\n",
    "        html = [\"<table>\"]\n",
    "        for row in self:\n",
    "            html.append(\"<tr>\")\n",
    "            \n",
    "            for col in row:\n",
    "                html.append(\"<td>{0}</td>\".format(col))\n",
    "            \n",
    "            html.append(\"</tr>\")\n",
    "        html.append(\"</table>\")\n",
    "\n",
    "        return ''.join(html)\n",
    "    \n",
    "name = ['refrigurator','wireless_router','aircont','computer','electrical_thermo','hair_dryer','microwave','iphone_charger','fan','tv','watching_mechine','iron','rice_cooker','water_heater','light_system']\n",
    "types = ['Type1 : always turn on [Dont control]','Type1 : always turn on','Type2 : turn on oncetime&everyday','Type2 : turn on oncetime&everyday','Type2 : turn on oncetime&everyday','Type2 : turn on oncetime&everyday'\n",
    "        ,'Type2 : turn on oncetime&everyday','Type2 : turn on oncetime&everyday','Type3 : turn on manytime(1-3) in everyday','Type3 : turn on manytime(1-3) in everyday','Type4 : turn on oncetime in someday'\n",
    "        ,'Type4 : turn on oncetime in someday','Type4 : turn on oncetime in someday','Type5 : turn on manytime(1-3) in someday','Type6 : monitor power consuming [Dont control]']\n",
    "prior = ['x','x','1','2','5','3','6','4','2','1','3','1','2','1','x']\n",
    "table = ListTable()\n",
    "table.append(['the 15 appliances','Type of appliances','the priority'])\n",
    "for i in xrange(15):\n",
    "    x = name[i]\n",
    "    y = types[i]\n",
    "    z = prior[i]\n",
    "    table.append([x, y ,z])\n",
    "table\n",
    "\n"
   ]
  },
  {
   "cell_type": "code",
   "execution_count": null,
   "metadata": {},
   "outputs": [],
   "source": []
  }
 ],
 "metadata": {
  "kernelspec": {
   "display_name": "Python 2",
   "language": "python",
   "name": "python2"
  },
  "language_info": {
   "codemirror_mode": {
    "name": "ipython",
    "version": 2
   },
   "file_extension": ".py",
   "mimetype": "text/x-python",
   "name": "python",
   "nbconvert_exporter": "python",
   "pygments_lexer": "ipython2",
   "version": "2.7.6"
  }
 },
 "nbformat": 4,
 "nbformat_minor": 1
}
