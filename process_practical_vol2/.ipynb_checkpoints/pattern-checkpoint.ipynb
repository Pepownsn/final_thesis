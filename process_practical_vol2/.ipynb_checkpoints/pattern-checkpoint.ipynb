{
 "cells": [
  {
   "cell_type": "code",
   "execution_count": 22,
   "metadata": {},
   "outputs": [],
   "source": [
    "import pandas as pd\n",
    "import MySQLdb\n",
    "import numpy as np\n",
    "import time\n",
    "import datetime \n",
    "import random\n",
    "import matplotlib.pyplot as plt\n",
    "%matplotlib inline \n",
    "import statistics \n",
    "import requests\n",
    "from sympy import *\n",
    "from sympy.solvers import solve\n",
    "from sympy.parsing.sympy_parser import parse_expr\n",
    "# ____________________________________________________________________________________________________   "
   ]
  },
  {
   "cell_type": "code",
   "execution_count": 36,
   "metadata": {},
   "outputs": [
    {
     "name": "stdout",
     "output_type": "stream",
     "text": [
      ". . . . . . . . . . . . . . . . . . . . . . . . . . . . . . . . . . . . . . . . . . . . . . . . . . . . . . . . . . . . . . . . . . . . . . . . . . . . . . . . . . . . . . . . . . . . . . . . . . . . . . . . . . . . . . . . . . . . . . . . . . . . . . . . . . . . . . . . . . . . . . . . . . . . . . . . . . . . . . . . . . . . . . . . . . . . . . . . . . . . . . . . . . . . . . . .\n"
     ]
    }
   ],
   "source": [
    "d = 200\n",
    "############################## DAY\n",
    "time_a = pd.date_range('2016-08-29 00:00:00', periods=d, freq='D')\n",
    "time_b = pd.date_range('2016-10-01 00:14:59', periods=d*96, freq='15T')\n",
    "\n",
    "\n",
    "conn = MySQLdb.connect(\"localhost\",\"conn\",\"hems\")\n",
    "c = conn.cursor()\n",
    "############################# DATA\n",
    "# query_empty = \"\"\"truncate table thesis.plattern_j\"\"\" \n",
    "# c.execute(query_empty)\n",
    "# print \"table thesis.plattern_j are Empty!!! \\n\"\n",
    "j = 0\n",
    "              \n",
    "query_last1 = \"SELECT total_watt FROM thesis.load  WHERE Timestamp >= '%s' AND Timestamp <= '%s'; \"%('2016-09-26 00:00:00','2016-09-29 23:59:59')\n",
    "df_last1  = pd.read_sql(query_last1, conn)\n",
    "query_last2 = \"SELECT total_watt FROM thesis.load WHERE Timestamp >= '%s' AND Timestamp <= '%s'; \"%('2016-09-03 00:00:00','2016-09-04 23:59:59')\n",
    "df_last2  = pd.read_sql(query_last2, conn)\n",
    "query_last0 = \"SELECT total_watt FROM thesis.load WHERE Timestamp >= '%s' AND Timestamp <= '%s'; \"%('2016-09-02 00:00:00','2016-09-30 23:59:59')\n",
    "df_last0  = pd.read_sql(query_last0, conn)\n",
    "\n",
    "while (j <= len(df_last2)-1):\n",
    "    c.execute(\"INSERT INTO thesis.plattern_j (Timestamp, total_watt) VALUES ( %s, %s)\",(time_b[j],df_last2.total_watt[j]))               \n",
    "    conn.commit()\n",
    "    j +=1\n",
    "    print \".\",\n",
    "\n",
    "\n"
   ]
  },
  {
   "cell_type": "code",
   "execution_count": 42,
   "metadata": {},
   "outputs": [
    {
     "name": "stdout",
     "output_type": "stream",
     "text": [
      " table thesis.plattern are Empty!!! \n",
      "\n",
      ". . . . . . . . . . . . . . . . . . . . . . . . . . . . . . . . . . .\n"
     ]
    }
   ],
   "source": [
    "d = 35\n",
    "############################## DAY\n",
    "time_a = pd.date_range('2016-08-29 00:00:00', periods=d, freq='D')\n",
    "time_b = pd.date_range('2016-08-29 23:59:59',  periods=d, freq='D')\n",
    "\n",
    "\n",
    "conn = MySQLdb.connect(\"localhost\",\"conn\",\"hems\")\n",
    "c = conn.cursor()\n",
    "############################# DATA\n",
    "query_empty = \"\"\"truncate table thesis.plattern\"\"\" \n",
    "c.execute(query_empty)\n",
    "print \"table thesis.plattern are Empty!!! \\n\"\n",
    "j = 0\n",
    "              \n",
    "while (j <= d-1):\n",
    "    query = \"SELECT total_watt FROM thesis.plattern_j  WHERE Timestamp >= '%s' AND Timestamp <= '%s'; \"%(time_a[j],time_b[j])\n",
    "    df = pd.read_sql(query, conn)   \n",
    "    result =df.total_watt.sum()/1000\n",
    "    c.execute(\"INSERT INTO thesis.plattern (Timestamp, total_watt) VALUES ( %s, %s)\",(time_b[j],result))               \n",
    "    conn.commit()\n",
    "    j +=1\n",
    "    print \".\",\n",
    "              \n"
   ]
  },
  {
   "cell_type": "code",
   "execution_count": 43,
   "metadata": {},
   "outputs": [
    {
     "name": "stdout",
     "output_type": "stream",
     "text": [
      "35\n"
     ]
    }
   ],
   "source": [
    "query = \"SELECT total_watt FROM thesis.plattern WHERE Timestamp >= '%s' AND Timestamp <= '%s'; \"%('2016-08-29 23:59:59','2016-10-02 23:59:59')\n",
    "df = pd.read_sql(query, conn)   \n",
    "print len(df)"
   ]
  },
  {
   "cell_type": "code",
   "execution_count": 48,
   "metadata": {},
   "outputs": [
    {
     "name": "stdout",
     "output_type": "stream",
     "text": [
      "table thesis.plattern_re are Empty!!! \n",
      "\n",
      ". . . . . . . . . . . . . . . . . . . . . . . . . . . . . . . . . . . . . . . . . . . . . . . . . . . . . . . . . . . . . . . . . . . . . . . . . . . . . . . . . . . . . . . . . . . . . . . . . . . . . . . . . . . . . . . . . . . . . . . . . . . . . . . . . . . . . . . . . . . . . . . . . . . . . . . . . . . . . . . . . . . . . . . . . . . . . . . . . . . . . . . . . . . . . . . . . . . . . . . . . . . . . . . . . . . . . . .\n"
     ]
    }
   ],
   "source": [
    "d = 215\n",
    "############################## DAY\n",
    "time_b = pd.date_range('2016-08-29 23:59:59',  periods=d, freq='D')\n",
    "\n",
    "conn = MySQLdb.connect(\"localhost\",\"conn\",\"hems\")\n",
    "c = conn.cursor()\n",
    "\n",
    "############################# DATA\n",
    "query_empty = \"\"\"truncate table thesis.plattern_re\"\"\" \n",
    "c.execute(query_empty)\n",
    "print \"table thesis.plattern_re are Empty!!! \\n\"\n",
    "\n",
    "j = 0 \n",
    "i = 0\n",
    "query = \"SELECT total_watt FROM thesis.plattern WHERE Timestamp >= '%s' AND Timestamp <= '%s'; \"%('2016-08-29 23:59:59','2016-10-02 23:59:59')\n",
    "df = pd.read_sql(query, conn)  \n",
    "\n",
    "while (j <= d-1):\n",
    "    if (i ==len(df)-1):\n",
    "        i = 0\n",
    "    c.execute(\"INSERT INTO thesis.plattern_re (Timestamp, total_watt) VALUES ( %s, %s)\",(time_b[j],df.total_watt[i]))               \n",
    "    conn.commit()\n",
    "    j += 1\n",
    "    i += 1\n",
    "    print \".\",\n",
    "              "
   ]
  },
  {
   "cell_type": "code",
   "execution_count": 52,
   "metadata": {},
   "outputs": [
    {
     "name": "stdout",
     "output_type": "stream",
     "text": [
      "table thesis.plattern_pc are Empty!!! \n",
      "\n",
      "391.6473\n"
     ]
    }
   ],
   "source": [
    "d = 215\n",
    "############################## DAY\n",
    "time_b = pd.date_range('2016-08-29 23:59:59',  periods=d, freq='D')\n",
    "\n",
    "conn = MySQLdb.connect(\"localhost\",\"conn\",\"hems\")\n",
    "c = conn.cursor()\n",
    "\n",
    "############################# DATA\n",
    "query_empty = \"\"\"truncate table thesis.plattern_pc\"\"\" \n",
    "c.execute(query_empty)\n",
    "print \"table thesis.plattern_pc are Empty!!! \\n\"\n",
    "\n",
    "j = 0 \n",
    "i = 0\n",
    "query5 = \"SELECT total_watt FROM thesis.plattern_re WHERE Timestamp >= '%s' AND Timestamp <= '%s'; \"%('2016-10-01 00:14:59','2016-10-31 23:59:59')\n",
    "df5 = pd.read_sql(query5, conn)  \n",
    "total_w =df5.total_watt.sum()\n",
    "print total_w\n",
    "# while (j <= d-1):\n",
    "#     if (i ==len(df)-1):\n",
    "#         i = 0\n",
    "#     c.execute(\"INSERT INTO thesis.plattern_re (Timestamp, total_watt) VALUES ( %s, %s)\",(time_b[j],df.total_watt[i]))               \n",
    "#     conn.commit()\n",
    "#     j += 1\n",
    "#     i += 1\n",
    "#     print \".\","
   ]
  },
  {
   "cell_type": "code",
   "execution_count": null,
   "metadata": {},
   "outputs": [],
   "source": []
  }
 ],
 "metadata": {
  "kernelspec": {
   "display_name": "Python 2",
   "language": "python",
   "name": "python2"
  },
  "language_info": {
   "codemirror_mode": {
    "name": "ipython",
    "version": 2
   },
   "file_extension": ".py",
   "mimetype": "text/x-python",
   "name": "python",
   "nbconvert_exporter": "python",
   "pygments_lexer": "ipython2",
   "version": "2.7.6"
  }
 },
 "nbformat": 4,
 "nbformat_minor": 1
}
